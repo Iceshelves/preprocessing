{
 "cells": [
  {
   "cell_type": "markdown",
   "metadata": {},
   "source": [
    "# Link labeldata to window cut-outs"
   ]
  },
  {
   "cell_type": "code",
   "execution_count": 1,
   "metadata": {},
   "outputs": [],
   "source": [
    "# %pip install rioxarray\n",
    "# %pip install geopandas"
   ]
  },
  {
   "cell_type": "code",
   "execution_count": 2,
   "metadata": {},
   "outputs": [],
   "source": [
    "import numpy as np\n",
    "import rasterio\n",
    "from rasterio.features import shapes, geometry_mask\n",
    "import rioxarray\n",
    "import json\n",
    "\n",
    "dataPath = '/Users/maaikeizeboud/Documents/Data/test/'\n",
    "imName = 'S2_comp_first.tif'\n",
    "# labName = 'S2_20190131_-100p7_-75p0.geojson'\n",
    "labName = 'output.geojson'"
   ]
  },
  {
   "cell_type": "markdown",
   "metadata": {},
   "source": [
    "## Load Image "
   ]
  },
  {
   "cell_type": "markdown",
   "metadata": {},
   "source": [
    "\n",
    "(Kopied from Meierts 'rasterize_labeled_data.ipynb')"
   ]
  },
  {
   "cell_type": "code",
   "execution_count": 3,
   "metadata": {},
   "outputs": [
    {
     "data": {
      "text/plain": [
       "(-1653920.0, -366670.0, -1553880.0, -266650.0)"
      ]
     },
     "execution_count": 3,
     "metadata": {},
     "output_type": "execute_result"
    }
   ],
   "source": [
    "bands = rioxarray.open_rasterio(dataPath + imName)\n",
    "bands.rio.bounds()"
   ]
  },
  {
   "cell_type": "code",
   "execution_count": 4,
   "metadata": {},
   "outputs": [
    {
     "data": {
      "text/plain": [
       "CRS.from_wkt('LOCAL_CS[\"WGS 84 / Antarctic Polar Stereographic\",UNIT[\"metre\",1],AXIS[\"Easting\",EAST],AXIS[\"Northing\",NORTH],AUTHORITY[\"EPSG\",\"3031\"]]')"
      ]
     },
     "execution_count": 4,
     "metadata": {},
     "output_type": "execute_result"
    }
   ],
   "source": [
    "bands.rio.crs"
   ]
  },
  {
   "cell_type": "code",
   "execution_count": 5,
   "metadata": {},
   "outputs": [
    {
     "data": {
      "text/plain": [
       "'ENGCRS[\"WGS 84 / Antarctic Polar Stereographic\",EDATUM[\"\"],CS[Cartesian,2],AXIS[\"easting\",east,ORDER[1],LENGTHUNIT[\"metre\",1]],AXIS[\"northing\",north,ORDER[2],LENGTHUNIT[\"metre\",1]],ID[\"EPSG\",3031]]'"
      ]
     },
     "execution_count": 5,
     "metadata": {},
     "output_type": "execute_result"
    }
   ],
   "source": [
    "bands.spatial_ref.crs_wkt"
   ]
  },
  {
   "cell_type": "markdown",
   "metadata": {},
   "source": [
    "## Load labeldata \n",
    "\n",
    "labeldata.geojson contains both Polygon and MultiLine. \n",
    "\n",
    "NB: the labeldata is stored in EPSG:4325 projection,  (lat,lon) values.\n",
    "This is converted to EPSG:3031 projection (Antarctic polarstereographic) BEFORE LOADING HERE. \n",
    "This has been done in terminal, not in this notebook, using GDAL's ogr2ogr: ``ogr2ogr   -s_srs EPSG:4326 -t_srs EPSG:3031  output.geojson   input.geojson``"
   ]
  },
  {
   "cell_type": "code",
   "execution_count": 6,
   "metadata": {},
   "outputs": [
    {
     "data": {
      "text/plain": [
       "4"
      ]
     },
     "execution_count": 6,
     "metadata": {},
     "output_type": "execute_result"
    }
   ],
   "source": [
    "with open(dataPath + labName) as f:\n",
    "    gj = json.load(f)\n",
    "\n",
    "features = gj['features'][0]['geometry'] # select one feature polygon for testing\n",
    "\n",
    "len(gj)"
   ]
  },
  {
   "cell_type": "markdown",
   "metadata": {},
   "source": [
    "### Check if geometry is valid geojson geomtetry to input to rasterio.features\n",
    "Even though the features are recognised as is_valid_geom()=True, \n",
    "using this as input for rasterio.features.geometry_mask(geometries,...) (see later kernel) yields:\n",
    "``ValueError: No valid geometry objects found for rasterize`` "
   ]
  },
  {
   "cell_type": "code",
   "execution_count": 7,
   "metadata": {},
   "outputs": [
    {
     "name": "stdout",
     "output_type": "stream",
     "text": [
      "True\n"
     ]
    }
   ],
   "source": [
    "print(rasterio.features.is_valid_geom(features))"
   ]
  },
  {
   "cell_type": "markdown",
   "metadata": {},
   "source": [
    "### Convert poly to georegisterted polygon\n",
    "Would rather skip this step, if we can get geometry_mask to work with 'features' geometry\n",
    "\n",
    "ATTENTION: should test for MultiLine as well (now only Polygon)"
   ]
  },
  {
   "cell_type": "code",
   "execution_count": 8,
   "metadata": {},
   "outputs": [
    {
     "data": {
      "text/plain": [
       "geopandas.geoseries.GeoSeries"
      ]
     },
     "execution_count": 8,
     "metadata": {},
     "output_type": "execute_result"
    }
   ],
   "source": [
    "from geopandas import GeoSeries\n",
    "from shapely import geometry\n",
    "from shapely.geometry import shape, mapping, MultiPolygon\n",
    "# poly1 = geometry.Polygon([[p.x,p.y] for p in plist1])\n",
    "poly = np.squeeze(features['coordinates']) # ndarray\n",
    "\n",
    "poly1 = geometry.Polygon(poly)\n",
    "polys = GeoSeries([poly1],crs=bands.spatial_ref.crs_wkt)\n",
    "type(polys)\n"
   ]
  },
  {
   "cell_type": "markdown",
   "metadata": {},
   "source": [
    "## Create mask with rasterio.features.geometry_mask"
   ]
  },
  {
   "cell_type": "markdown",
   "metadata": {},
   "source": [
    "### (1) use georegistered polygon -- works\n",
    "create mask based on geometry. Invert mask to select pixels WITHIN bounds. ATTENTION possible to select on touch or center inclusion\n",
    "\n",
    "polys : dtype geometry / geopandas.geoseries.GeoSeries"
   ]
  },
  {
   "cell_type": "code",
   "execution_count": 9,
   "metadata": {},
   "outputs": [
    {
     "data": {
      "text/plain": [
       "(1, 10002, 10004)"
      ]
     },
     "execution_count": 9,
     "metadata": {},
     "output_type": "execute_result"
    }
   ],
   "source": [
    "mmask = geometry_mask(polys,out_shape=(len(bands.y),len(bands.x)),transform=bands.rio.transform(),invert=True)\n",
    "\n",
    "# Inspect data type of mask -> ndarray\n",
    "mmask = np.expand_dims(mmask,axis=0)\n",
    "mmask.shape"
   ]
  },
  {
   "cell_type": "markdown",
   "metadata": {},
   "source": [
    "### (2) use geojson-like object  -- doesnt work\n",
    "https://rasterio.readthedocs.io/en/latest/api/rasterio.features.html\n",
    "GeoJSON-like objects should work, and would save some conversion from geojson > polygon > georegistered polygon. "
   ]
  },
  {
   "cell_type": "code",
   "execution_count": 10,
   "metadata": {},
   "outputs": [],
   "source": [
    "\n",
    "# mmask = geometry_mask(features,out_shape=(len(bands.y),len(bands.x)),transform=bands.rio.transform(),invert=True)\n",
    "# mmask = np.expand_dims(mmask,axis=0)\n",
    "# mmas.shape"
   ]
  },
  {
   "cell_type": "code",
   "execution_count": 11,
   "metadata": {},
   "outputs": [],
   "source": [
    "m2mask = mmask.astype(np.dtype('uint16'))"
   ]
  },
  {
   "cell_type": "markdown",
   "metadata": {},
   "source": [
    "inspect mask"
   ]
  },
  {
   "cell_type": "code",
   "execution_count": 12,
   "metadata": {},
   "outputs": [
    {
     "data": {
      "image/png": "[encoded data removed]",
      "text/plain": [
       "<Figure size 720x720 with 2 Axes>"
      ]
     },
     "metadata": {
      "needs_background": "light"
     },
     "output_type": "display_data"
    }
   ],
   "source": [
    "import matplotlib.pyplot as plt\n",
    "# imshow(amask[0])\n",
    "fig, (ax1, ax2) = plt.subplots(1, 2,figsize=(10,10))\n",
    "ax2.imshow(m2mask[0])\n",
    "ax1.imshow(bands[0,:,:]) \n",
    "ax2.set_title('labeldata');\n",
    "ax1.set_title('image (1/3 bnd)');"
   ]
  },
  {
   "cell_type": "markdown",
   "metadata": {},
   "source": [
    "### Convert Mask to integer and add as band to image"
   ]
  },
  {
   "cell_type": "markdown",
   "metadata": {},
   "source": [
    "mask is boolean. Convert to integer representation true==1 false==0\n",
    "\n",
    "convert mask to DataArray. import coordinates from bands"
   ]
  },
  {
   "cell_type": "code",
   "execution_count": null,
   "metadata": {},
   "outputs": [],
   "source": []
  },
  {
   "cell_type": "code",
   "execution_count": 13,
   "metadata": {},
   "outputs": [],
   "source": [
    "import xarray\n",
    "amask= xarray.DataArray(data=m2mask,dims=['band','y','x'],coords={'band':[0],'y':bands[0].coords['y'],'x':bands[0].coords['x']})"
   ]
  },
  {
   "cell_type": "code",
   "execution_count": 14,
   "metadata": {},
   "outputs": [
    {
     "data": {
      "text/html": [
       "<div><svg style=\"position: absolute; width: 0; height: 0; overflow: hidden\">\n",
       "<defs>\n",
       "<symbol id=\"icon-database\" viewBox=\"0 0 32 32\">\n",
       "<path d=\"M16 0c-8.837 0-16 2.239-16 5v4c0 2.761 7.163 5 16 5s16-2.239 16-5v-4c0-2.761-7.163-5-16-5z\"></path>\n",
       "<path d=\"M16 17c-8.837 0-16-2.239-16-5v6c0 2.761 7.163 5 16 5s16-2.239 16-5v-6c0 2.761-7.163 5-16 5z\"></path>\n",
       "<path d=\"M16 26c-8.837 0-16-2.239-16-5v6c0 2.761 7.163 5 16 5s16-2.239 16-5v-6c0 2.761-7.163 5-16 5z\"></path>\n",
       "</symbol>\n",
       "<symbol id=\"icon-file-text2\" viewBox=\"0 0 32 32\">\n",
       "<path d=\"M28.681 7.159c-0.694-0.947-1.662-2.053-2.724-3.116s-2.169-2.030-3.116-2.724c-1.612-1.182-2.393-1.319-2.841-1.319h-15.5c-1.378 0-2.5 1.121-2.5 2.5v27c0 1.378 1.122 2.5 2.5 2.5h23c1.378 0 2.5-1.122 2.5-2.5v-19.5c0-0.448-0.137-1.23-1.319-2.841zM24.543 5.457c0.959 0.959 1.712 1.825 2.268 2.543h-4.811v-4.811c0.718 0.556 1.584 1.309 2.543 2.268zM28 29.5c0 0.271-0.229 0.5-0.5 0.5h-23c-0.271 0-0.5-0.229-0.5-0.5v-27c0-0.271 0.229-0.5 0.5-0.5 0 0 15.499-0 15.5 0v7c0 0.552 0.448 1 1 1h7v19.5z\"></path>\n",
       "<path d=\"M23 26h-14c-0.552 0-1-0.448-1-1s0.448-1 1-1h14c0.552 0 1 0.448 1 1s-0.448 1-1 1z\"></path>\n",
       "<path d=\"M23 22h-14c-0.552 0-1-0.448-1-1s0.448-1 1-1h14c0.552 0 1 0.448 1 1s-0.448 1-1 1z\"></path>\n",
       "<path d=\"M23 18h-14c-0.552 0-1-0.448-1-1s0.448-1 1-1h14c0.552 0 1 0.448 1 1s-0.448 1-1 1z\"></path>\n",
       "</symbol>\n",
       "</defs>\n",
       "</svg>\n",
       "<style>/* CSS stylesheet for displaying xarray objects in jupyterlab.\n",
       " *\n",
       " */\n",
       "\n",
       ":root {\n",
       "  --xr-font-color0: var(--jp-content-font-color0, rgba(0, 0, 0, 1));\n",
       "  --xr-font-color2: var(--jp-content-font-color2, rgba(0, 0, 0, 0.54));\n",
       "  --xr-font-color3: var(--jp-content-font-color3, rgba(0, 0, 0, 0.38));\n",
       "  --xr-border-color: var(--jp-border-color2, #e0e0e0);\n",
       "  --xr-disabled-color: var(--jp-layout-color3, #bdbdbd);\n",
       "  --xr-background-color: var(--jp-layout-color0, white);\n",
       "  --xr-background-color-row-even: var(--jp-layout-color1, white);\n",
       "  --xr-background-color-row-odd: var(--jp-layout-color2, #eeeeee);\n",
       "}\n",
       "\n",
       "html[theme=dark],\n",
       "body.vscode-dark {\n",
       "  --xr-font-color0: rgba(255, 255, 255, 1);\n",
       "  --xr-font-color2: rgba(255, 255, 255, 0.54);\n",
       "  --xr-font-color3: rgba(255, 255, 255, 0.38);\n",
       "  --xr-border-color: #1F1F1F;\n",
       "  --xr-disabled-color: #515151;\n",
       "  --xr-background-color: #111111;\n",
       "  --xr-background-color-row-even: #111111;\n",
       "  --xr-background-color-row-odd: #313131;\n",
       "}\n",
       "\n",
       ".xr-wrap {\n",
       "  display: block;\n",
       "  min-width: 300px;\n",
       "  max-width: 700px;\n",
       "}\n",
       "\n",
       ".xr-text-repr-fallback {\n",
       "  /* fallback to plain text repr when CSS is not injected (untrusted notebook) */\n",
       "  display: none;\n",
       "}\n",
       "\n",
       ".xr-header {\n",
       "  padding-top: 6px;\n",
       "  padding-bottom: 6px;\n",
       "  margin-bottom: 4px;\n",
       "  border-bottom: solid 1px var(--xr-border-color);\n",
       "}\n",
       "\n",
       ".xr-header > div,\n",
       ".xr-header > ul {\n",
       "  display: inline;\n",
       "  margin-top: 0;\n",
       "  margin-bottom: 0;\n",
       "}\n",
       "\n",
       ".xr-obj-type,\n",
       ".xr-array-name {\n",
       "  margin-left: 2px;\n",
       "  margin-right: 10px;\n",
       "}\n",
       "\n",
       ".xr-obj-type {\n",
       "  color: var(--xr-font-color2);\n",
       "}\n",
       "\n",
       ".xr-sections {\n",
       "  padding-left: 0 !important;\n",
       "  display: grid;\n",
       "  grid-template-columns: 150px auto auto 1fr 20px 20px;\n",
       "}\n",
       "\n",
       ".xr-section-item {\n",
       "  display: contents;\n",
       "}\n",
       "\n",
       ".xr-section-item input {\n",
       "  display: none;\n",
       "}\n",
       "\n",
       ".xr-section-item input + label {\n",
       "  color: var(--xr-disabled-color);\n",
       "}\n",
       "\n",
       ".xr-section-item input:enabled + label {\n",
       "  cursor: pointer;\n",
       "  color: var(--xr-font-color2);\n",
       "}\n",
       "\n",
       ".xr-section-item input:enabled + label:hover {\n",
       "  color: var(--xr-font-color0);\n",
       "}\n",
       "\n",
       ".xr-section-summary {\n",
       "  grid-column: 1;\n",
       "  color: var(--xr-font-color2);\n",
       "  font-weight: 500;\n",
       "}\n",
       "\n",
       ".xr-section-summary > span {\n",
       "  display: inline-block;\n",
       "  padding-left: 0.5em;\n",
       "}\n",
       "\n",
       ".xr-section-summary-in:disabled + label {\n",
       "  color: var(--xr-font-color2);\n",
       "}\n",
       "\n",
       ".xr-section-summary-in + label:before {\n",
       "  display: inline-block;\n",
       "  content: '►';\n",
       "  font-size: 11px;\n",
       "  width: 15px;\n",
       "  text-align: center;\n",
       "}\n",
       "\n",
       ".xr-section-summary-in:disabled + label:before {\n",
       "  color: var(--xr-disabled-color);\n",
       "}\n",
       "\n",
       ".xr-section-summary-in:checked + label:before {\n",
       "  content: '▼';\n",
       "}\n",
       "\n",
       ".xr-section-summary-in:checked + label > span {\n",
       "  display: none;\n",
       "}\n",
       "\n",
       ".xr-section-summary,\n",
       ".xr-section-inline-details {\n",
       "  padding-top: 4px;\n",
       "  padding-bottom: 4px;\n",
       "}\n",
       "\n",
       ".xr-section-inline-details {\n",
       "  grid-column: 2 / -1;\n",
       "}\n",
       "\n",
       ".xr-section-details {\n",
       "  display: none;\n",
       "  grid-column: 1 / -1;\n",
       "  margin-bottom: 5px;\n",
       "}\n",
       "\n",
       ".xr-section-summary-in:checked ~ .xr-section-details {\n",
       "  display: contents;\n",
       "}\n",
       "\n",
       ".xr-array-wrap {\n",
       "  grid-column: 1 / -1;\n",
       "  display: grid;\n",
       "  grid-template-columns: 20px auto;\n",
       "}\n",
       "\n",
       ".xr-array-wrap > label {\n",
       "  grid-column: 1;\n",
       "  vertical-align: top;\n",
       "}\n",
       "\n",
       ".xr-preview {\n",
       "  color: var(--xr-font-color3);\n",
       "}\n",
       "\n",
       ".xr-array-preview,\n",
       ".xr-array-data {\n",
       "  padding: 0 5px !important;\n",
       "  grid-column: 2;\n",
       "}\n",
       "\n",
       ".xr-array-data,\n",
       ".xr-array-in:checked ~ .xr-array-preview {\n",
       "  display: none;\n",
       "}\n",
       "\n",
       ".xr-array-in:checked ~ .xr-array-data,\n",
       ".xr-array-preview {\n",
       "  display: inline-block;\n",
       "}\n",
       "\n",
       ".xr-dim-list {\n",
       "  display: inline-block !important;\n",
       "  list-style: none;\n",
       "  padding: 0 !important;\n",
       "  margin: 0;\n",
       "}\n",
       "\n",
       ".xr-dim-list li {\n",
       "  display: inline-block;\n",
       "  padding: 0;\n",
       "  margin: 0;\n",
       "}\n",
       "\n",
       ".xr-dim-list:before {\n",
       "  content: '(';\n",
       "}\n",
       "\n",
       ".xr-dim-list:after {\n",
       "  content: ')';\n",
       "}\n",
       "\n",
       ".xr-dim-list li:not(:last-child):after {\n",
       "  content: ',';\n",
       "  padding-right: 5px;\n",
       "}\n",
       "\n",
       ".xr-has-index {\n",
       "  font-weight: bold;\n",
       "}\n",
       "\n",
       ".xr-var-list,\n",
       ".xr-var-item {\n",
       "  display: contents;\n",
       "}\n",
       "\n",
       ".xr-var-item > div,\n",
       ".xr-var-item label,\n",
       ".xr-var-item > .xr-var-name span {\n",
       "  background-color: var(--xr-background-color-row-even);\n",
       "  margin-bottom: 0;\n",
       "}\n",
       "\n",
       ".xr-var-item > .xr-var-name:hover span {\n",
       "  padding-right: 5px;\n",
       "}\n",
       "\n",
       ".xr-var-list > li:nth-child(odd) > div,\n",
       ".xr-var-list > li:nth-child(odd) > label,\n",
       ".xr-var-list > li:nth-child(odd) > .xr-var-name span {\n",
       "  background-color: var(--xr-background-color-row-odd);\n",
       "}\n",
       "\n",
       ".xr-var-name {\n",
       "  grid-column: 1;\n",
       "}\n",
       "\n",
       ".xr-var-dims {\n",
       "  grid-column: 2;\n",
       "}\n",
       "\n",
       ".xr-var-dtype {\n",
       "  grid-column: 3;\n",
       "  text-align: right;\n",
       "  color: var(--xr-font-color2);\n",
       "}\n",
       "\n",
       ".xr-var-preview {\n",
       "  grid-column: 4;\n",
       "}\n",
       "\n",
       ".xr-var-name,\n",
       ".xr-var-dims,\n",
       ".xr-var-dtype,\n",
       ".xr-preview,\n",
       ".xr-attrs dt {\n",
       "  white-space: nowrap;\n",
       "  overflow: hidden;\n",
       "  text-overflow: ellipsis;\n",
       "  padding-right: 10px;\n",
       "}\n",
       "\n",
       ".xr-var-name:hover,\n",
       ".xr-var-dims:hover,\n",
       ".xr-var-dtype:hover,\n",
       ".xr-attrs dt:hover {\n",
       "  overflow: visible;\n",
       "  width: auto;\n",
       "  z-index: 1;\n",
       "}\n",
       "\n",
       ".xr-var-attrs,\n",
       ".xr-var-data {\n",
       "  display: none;\n",
       "  background-color: var(--xr-background-color) !important;\n",
       "  padding-bottom: 5px !important;\n",
       "}\n",
       "\n",
       ".xr-var-attrs-in:checked ~ .xr-var-attrs,\n",
       ".xr-var-data-in:checked ~ .xr-var-data {\n",
       "  display: block;\n",
       "}\n",
       "\n",
       ".xr-var-data > table {\n",
       "  float: right;\n",
       "}\n",
       "\n",
       ".xr-var-name span,\n",
       ".xr-var-data,\n",
       ".xr-attrs {\n",
       "  padding-left: 25px !important;\n",
       "}\n",
       "\n",
       ".xr-attrs,\n",
       ".xr-var-attrs,\n",
       ".xr-var-data {\n",
       "  grid-column: 1 / -1;\n",
       "}\n",
       "\n",
       "dl.xr-attrs {\n",
       "  padding: 0;\n",
       "  margin: 0;\n",
       "  display: grid;\n",
       "  grid-template-columns: 125px auto;\n",
       "}\n",
       "\n",
       ".xr-attrs dt,\n",
       ".xr-attrs dd {\n",
       "  padding: 0;\n",
       "  margin: 0;\n",
       "  float: left;\n",
       "  padding-right: 10px;\n",
       "  width: auto;\n",
       "}\n",
       "\n",
       ".xr-attrs dt {\n",
       "  font-weight: normal;\n",
       "  grid-column: 1;\n",
       "}\n",
       "\n",
       ".xr-attrs dt:hover span {\n",
       "  display: inline-block;\n",
       "  background: var(--xr-background-color);\n",
       "  padding-right: 10px;\n",
       "}\n",
       "\n",
       ".xr-attrs dd {\n",
       "  grid-column: 2;\n",
       "  white-space: pre-wrap;\n",
       "  word-break: break-all;\n",
       "}\n",
       "\n",
       ".xr-icon-database,\n",
       ".xr-icon-file-text2 {\n",
       "  display: inline-block;\n",
       "  vertical-align: middle;\n",
       "  width: 1em;\n",
       "  height: 1.5em !important;\n",
       "  stroke-width: 0;\n",
       "  stroke: currentColor;\n",
       "  fill: currentColor;\n",
       "}\n",
       "</style><pre class='xr-text-repr-fallback'>&lt;xarray.DataArray (band: 1, y: 10002, x: 10004)&gt;\n",
       "array([[[0, 0, 0, ..., 0, 0, 0],\n",
       "        [0, 0, 0, ..., 0, 0, 0],\n",
       "        [0, 0, 0, ..., 0, 0, 0],\n",
       "        ...,\n",
       "        [0, 0, 0, ..., 0, 0, 0],\n",
       "        [0, 0, 0, ..., 0, 0, 0],\n",
       "        [0, 0, 0, ..., 0, 0, 0]]], dtype=uint16)\n",
       "Coordinates:\n",
       "  * band         (band) int64 0\n",
       "  * y            (y) float64 -2.667e+05 -2.667e+05 ... -3.667e+05 -3.667e+05\n",
       "  * x            (x) float64 -1.654e+06 -1.654e+06 ... -1.554e+06 -1.554e+06\n",
       "    spatial_ref  int64 0\n",
       "Attributes:\n",
       "    scale_factor:  1.0\n",
       "    add_offset:    0.0\n",
       "    long_name:     (&#x27;B4_first&#x27;, &#x27;B3_first&#x27;, &#x27;B2_first&#x27;)\n",
       "    grid_mapping:  spatial_ref</pre><div class='xr-wrap' hidden><div class='xr-header'><div class='xr-obj-type'>xarray.DataArray</div><div class='xr-array-name'></div><ul class='xr-dim-list'><li><span class='xr-has-index'>band</span>: 1</li><li><span class='xr-has-index'>y</span>: 10002</li><li><span class='xr-has-index'>x</span>: 10004</li></ul></div><ul class='xr-sections'><li class='xr-section-item'><div class='xr-array-wrap'><input id='section-2d257863-3841-4e2e-903d-ba589751ab2e' class='xr-array-in' type='checkbox' checked><label for='section-2d257863-3841-4e2e-903d-ba589751ab2e' title='Show/hide data repr'><svg class='icon xr-icon-database'><use xlink:href='#icon-database'></use></svg></label><div class='xr-array-preview xr-preview'><span>0 0 0 0 0 0 0 0 0 0 0 0 0 0 0 0 0 ... 0 0 0 0 0 0 0 0 0 0 0 0 0 0 0 0</span></div><div class='xr-array-data'><pre>array([[[0, 0, 0, ..., 0, 0, 0],\n",
       "        [0, 0, 0, ..., 0, 0, 0],\n",
       "        [0, 0, 0, ..., 0, 0, 0],\n",
       "        ...,\n",
       "        [0, 0, 0, ..., 0, 0, 0],\n",
       "        [0, 0, 0, ..., 0, 0, 0],\n",
       "        [0, 0, 0, ..., 0, 0, 0]]], dtype=uint16)</pre></div></div></li><li class='xr-section-item'><input id='section-d4f80f5b-0654-4b72-9f27-18ea5570290e' class='xr-section-summary-in' type='checkbox'  checked><label for='section-d4f80f5b-0654-4b72-9f27-18ea5570290e' class='xr-section-summary' >Coordinates: <span>(4)</span></label><div class='xr-section-inline-details'></div><div class='xr-section-details'><ul class='xr-var-list'><li class='xr-var-item'><div class='xr-var-name'><span class='xr-has-index'>band</span></div><div class='xr-var-dims'>(band)</div><div class='xr-var-dtype'>int64</div><div class='xr-var-preview xr-preview'>0</div><input id='attrs-7945e4b9-1369-4828-8f55-2097c8a4956a' class='xr-var-attrs-in' type='checkbox' disabled><label for='attrs-7945e4b9-1369-4828-8f55-2097c8a4956a' title='Show/Hide attributes'><svg class='icon xr-icon-file-text2'><use xlink:href='#icon-file-text2'></use></svg></label><input id='data-420f8c10-c0ca-4f14-97d6-0a4542af7547' class='xr-var-data-in' type='checkbox'><label for='data-420f8c10-c0ca-4f14-97d6-0a4542af7547' title='Show/Hide data repr'><svg class='icon xr-icon-database'><use xlink:href='#icon-database'></use></svg></label><div class='xr-var-attrs'><dl class='xr-attrs'></dl></div><div class='xr-var-data'><pre>array([0])</pre></div></li><li class='xr-var-item'><div class='xr-var-name'><span class='xr-has-index'>y</span></div><div class='xr-var-dims'>(y)</div><div class='xr-var-dtype'>float64</div><div class='xr-var-preview xr-preview'>-2.667e+05 ... -3.667e+05</div><input id='attrs-2250118a-9901-4466-b5da-074114d8064b' class='xr-var-attrs-in' type='checkbox' ><label for='attrs-2250118a-9901-4466-b5da-074114d8064b' title='Show/Hide attributes'><svg class='icon xr-icon-file-text2'><use xlink:href='#icon-file-text2'></use></svg></label><input id='data-de951c2d-2581-4f82-ae47-4b8db7e944c6' class='xr-var-data-in' type='checkbox'><label for='data-de951c2d-2581-4f82-ae47-4b8db7e944c6' title='Show/Hide data repr'><svg class='icon xr-icon-database'><use xlink:href='#icon-database'></use></svg></label><div class='xr-var-attrs'><dl class='xr-attrs'><dt><span>axis :</span></dt><dd>Y</dd></dl></div><div class='xr-var-data'><pre>array([-266655., -266665., -266675., ..., -366645., -366655., -366665.])</pre></div></li><li class='xr-var-item'><div class='xr-var-name'><span class='xr-has-index'>x</span></div><div class='xr-var-dims'>(x)</div><div class='xr-var-dtype'>float64</div><div class='xr-var-preview xr-preview'>-1.654e+06 ... -1.554e+06</div><input id='attrs-faed9fb8-3aa4-48fe-988a-8cdb2398a573' class='xr-var-attrs-in' type='checkbox' ><label for='attrs-faed9fb8-3aa4-48fe-988a-8cdb2398a573' title='Show/Hide attributes'><svg class='icon xr-icon-file-text2'><use xlink:href='#icon-file-text2'></use></svg></label><input id='data-6a782369-3efc-45ff-b673-4170ed94a847' class='xr-var-data-in' type='checkbox'><label for='data-6a782369-3efc-45ff-b673-4170ed94a847' title='Show/Hide data repr'><svg class='icon xr-icon-database'><use xlink:href='#icon-database'></use></svg></label><div class='xr-var-attrs'><dl class='xr-attrs'><dt><span>axis :</span></dt><dd>X</dd></dl></div><div class='xr-var-data'><pre>array([-1653915., -1653905., -1653895., ..., -1553905., -1553895., -1553885.])</pre></div></li><li class='xr-var-item'><div class='xr-var-name'><span>spatial_ref</span></div><div class='xr-var-dims'>()</div><div class='xr-var-dtype'>int64</div><div class='xr-var-preview xr-preview'>0</div><input id='attrs-7fd5558c-4a07-4420-9436-e65f6c239c5d' class='xr-var-attrs-in' type='checkbox' ><label for='attrs-7fd5558c-4a07-4420-9436-e65f6c239c5d' title='Show/Hide attributes'><svg class='icon xr-icon-file-text2'><use xlink:href='#icon-file-text2'></use></svg></label><input id='data-20aac258-07f0-4e54-beb3-b999d32b90ec' class='xr-var-data-in' type='checkbox'><label for='data-20aac258-07f0-4e54-beb3-b999d32b90ec' title='Show/Hide data repr'><svg class='icon xr-icon-database'><use xlink:href='#icon-database'></use></svg></label><div class='xr-var-attrs'><dl class='xr-attrs'><dt><span>crs_wkt :</span></dt><dd>ENGCRS[&quot;WGS 84 / Antarctic Polar Stereographic&quot;,EDATUM[&quot;&quot;],CS[Cartesian,2],AXIS[&quot;easting&quot;,east,ORDER[1],LENGTHUNIT[&quot;metre&quot;,1]],AXIS[&quot;northing&quot;,north,ORDER[2],LENGTHUNIT[&quot;metre&quot;,1]],ID[&quot;EPSG&quot;,3031]]</dd><dt><span>spatial_ref :</span></dt><dd>ENGCRS[&quot;WGS 84 / Antarctic Polar Stereographic&quot;,EDATUM[&quot;&quot;],CS[Cartesian,2],AXIS[&quot;easting&quot;,east,ORDER[1],LENGTHUNIT[&quot;metre&quot;,1]],AXIS[&quot;northing&quot;,north,ORDER[2],LENGTHUNIT[&quot;metre&quot;,1]],ID[&quot;EPSG&quot;,3031]]</dd><dt><span>GeoTransform :</span></dt><dd>-1653920.0 10.0 0.0 -266650.0 0.0 -10.0</dd></dl></div><div class='xr-var-data'><pre>array(0)</pre></div></li></ul></div></li><li class='xr-section-item'><input id='section-2bfc7d95-0475-4d7a-82e8-5c21d850d8da' class='xr-section-summary-in' type='checkbox'  checked><label for='section-2bfc7d95-0475-4d7a-82e8-5c21d850d8da' class='xr-section-summary' >Attributes: <span>(4)</span></label><div class='xr-section-inline-details'></div><div class='xr-section-details'><dl class='xr-attrs'><dt><span>scale_factor :</span></dt><dd>1.0</dd><dt><span>add_offset :</span></dt><dd>0.0</dd><dt><span>long_name :</span></dt><dd>(&#x27;B4_first&#x27;, &#x27;B3_first&#x27;, &#x27;B2_first&#x27;)</dd><dt><span>grid_mapping :</span></dt><dd>spatial_ref</dd></dl></div></li></ul></div></div>"
      ],
      "text/plain": [
       "<xarray.DataArray (band: 1, y: 10002, x: 10004)>\n",
       "array([[[0, 0, 0, ..., 0, 0, 0],\n",
       "        [0, 0, 0, ..., 0, 0, 0],\n",
       "        [0, 0, 0, ..., 0, 0, 0],\n",
       "        ...,\n",
       "        [0, 0, 0, ..., 0, 0, 0],\n",
       "        [0, 0, 0, ..., 0, 0, 0],\n",
       "        [0, 0, 0, ..., 0, 0, 0]]], dtype=uint16)\n",
       "Coordinates:\n",
       "  * band         (band) int64 0\n",
       "  * y            (y) float64 -2.667e+05 -2.667e+05 ... -3.667e+05 -3.667e+05\n",
       "  * x            (x) float64 -1.654e+06 -1.654e+06 ... -1.554e+06 -1.554e+06\n",
       "    spatial_ref  int64 0\n",
       "Attributes:\n",
       "    scale_factor:  1.0\n",
       "    add_offset:    0.0\n",
       "    long_name:     ('B4_first', 'B3_first', 'B2_first')\n",
       "    grid_mapping:  spatial_ref"
      ]
     },
     "execution_count": 14,
     "metadata": {},
     "output_type": "execute_result"
    }
   ],
   "source": [
    "from rioxarray.rioxarray import _add_attrs_proj\n",
    "_add_attrs_proj(amask,bands[0])"
   ]
  },
  {
   "cell_type": "code",
   "execution_count": 15,
   "metadata": {},
   "outputs": [],
   "source": [
    "masked_image=xarray.concat([bands,amask],'band')\n",
    "# masked_image"
   ]
  },
  {
   "cell_type": "markdown",
   "metadata": {},
   "source": [
    "# Apply windowing function on image\n",
    "(do not actually export windows, as we already ahve these. Just save the labeldata that correspond with each window)\n"
   ]
  },
  {
   "cell_type": "code",
   "execution_count": 16,
   "metadata": {},
   "outputs": [],
   "source": [
    "from itertools import product\n",
    "from rasterio import windows\n",
    "\n",
    "def get_windows(src, overlap, width, height, boundless=True):\n",
    "    offsets = product(range(0, src.meta['width'], width), range(0, src.meta['height'], height))\n",
    "    full_window = windows.Window(col_off=0, row_off=0, width=src.meta['width'], height=src.meta['height'])\n",
    "    for col_off, row_off in offsets:\n",
    "        window = windows.Window(\n",
    "            col_off=col_off - overlap,\n",
    "            row_off=row_off - overlap,\n",
    "            width=width,\n",
    "            height=height)\n",
    "        \n",
    "        if boundless:\n",
    "            yield window\n",
    "        else:\n",
    "            yield window.intersection(full_window)"
   ]
  },
  {
   "cell_type": "markdown",
   "metadata": {},
   "source": [
    "Define window:"
   ]
  },
  {
   "cell_type": "code",
   "execution_count": 17,
   "metadata": {},
   "outputs": [
    {
     "name": "stdout",
     "output_type": "stream",
     "text": [
      "/Users/maaikeizeboud/Documents/Data/test/S2_comp_first.tif\n"
     ]
    }
   ],
   "source": [
    "width = 20\n",
    "height = 20\n",
    "overlap = 5\n",
    "\n",
    "source_data = dataPath+imName\n",
    "print(source_data)"
   ]
  },
  {
   "cell_type": "markdown",
   "metadata": {},
   "source": [
    "#### Create window list:"
   ]
  },
  {
   "cell_type": "code",
   "execution_count": 18,
   "metadata": {},
   "outputs": [],
   "source": [
    "import xarray as xr\n",
    "with rasterio.open(source_data) as src:\n",
    "    window_list = [w for w in get_windows(src, overlap, width, height)]\n",
    "    arrays = [src.read([1, 2, 3], window=window, boundless=False) for window in window_list]"
   ]
  },
  {
   "cell_type": "code",
   "execution_count": 41,
   "metadata": {},
   "outputs": [
    {
     "name": "stdout",
     "output_type": "stream",
     "text": [
      "251001 251001\n"
     ]
    }
   ],
   "source": [
    "print(len(window_list), len(arrays) )"
   ]
  },
  {
   "cell_type": "code",
   "execution_count": 36,
   "metadata": {},
   "outputs": [
    {
     "data": {
      "text/plain": [
       "[Window(col_off=-5, row_off=15, width=20, height=20),\n",
       " Window(col_off=-5, row_off=35, width=20, height=20),\n",
       " Window(col_off=-5, row_off=55, width=20, height=20),\n",
       " Window(col_off=-5, row_off=75, width=20, height=20),\n",
       " Window(col_off=-5, row_off=95, width=20, height=20),\n",
       " Window(col_off=-5, row_off=115, width=20, height=20),\n",
       " Window(col_off=-5, row_off=135, width=20, height=20),\n",
       " Window(col_off=-5, row_off=155, width=20, height=20),\n",
       " Window(col_off=-5, row_off=175, width=20, height=20)]"
      ]
     },
     "execution_count": 36,
     "metadata": {},
     "output_type": "execute_result"
    }
   ],
   "source": [
    "window_list[1:10]"
   ]
  },
  {
   "cell_type": "code",
   "execution_count": 43,
   "metadata": {},
   "outputs": [
    {
     "data": {
      "text/plain": [
       "array([[[ 9240,  9224,  9272,  9160,  9208,  9192,  9208,  9264,  9280,\n",
       "          9304,  9240,  9312,  9352,  9288,  9376],\n",
       "        [ 9416,  9512,  9304,  9240,  9208,  9184,  9184,  9192,  9168,\n",
       "          9216,  9120,  9120,  9192,  9208,  9280],\n",
       "        [ 9536,  9536,  9336,  9264,  9168,  9120,  9080,  9088,  9168,\n",
       "          9168,  9032,  9032,  9120,  9104,  9128],\n",
       "        [ 9544,  9640,  9472,  9440,  9408,  9232,  9088,  9120,  9096,\n",
       "          9128,  9072,  9040,  9136,  9056,  9040],\n",
       "        [ 9312,  9472,  9696,  9576,  9512,  9512,  9328,  9168,  9136,\n",
       "          9096,  9128,  9128,  9008,  9112,  9056],\n",
       "        [ 9304,  9472,  9656,  9408,  9480,  9544,  9328,  9328,  9368,\n",
       "          9192,  9200,  9168,  8976,  9008,  9120],\n",
       "        [ 9312,  9440,  9432,  9376,  9456,  9544,  9376,  9352,  9408,\n",
       "          9368,  9376,  9376,  9312,  9232,  9176],\n",
       "        [ 9440,  9384,  9376,  9376,  9512,  9512,  9304,  9208,  9304,\n",
       "          9440,  9320,  9408,  9480,  9544,  9376],\n",
       "        [ 9416,  9392,  9352,  9520,  9376,  9408,  9296,  9168,  9208,\n",
       "          9296,  9280,  9288,  9416,  9568,  9568],\n",
       "        [ 9488,  9480,  9352,  9344,  9296,  9408,  9408,  9264,  9240,\n",
       "          9280,  9264,  9208,  9192,  9144,  9256],\n",
       "        [ 9416,  9312,  9248,  9248,  9384,  9376,  9472,  9408,  9392,\n",
       "          9304,  9280,  9392,  9400,  9320,  9216],\n",
       "        [ 9376,  9416,  9336,  9336,  9344,  9368,  9424,  9352,  9280,\n",
       "          9264,  9208,  9376,  9488,  9408,  9376],\n",
       "        [ 9344,  9336,  9312,  9336,  9416,  9344,  9192,  9192,  9192,\n",
       "          9192,  9192,  9216,  9376,  9456,  9488],\n",
       "        [ 9296,  9336,  9352,  9416,  9368,  9304,  9344,  9344,  9320,\n",
       "          9304,  9272,  9208,  9144,  9208,  9344],\n",
       "        [ 9416,  9352,  9288,  9392,  9312,  9320,  9368,  9376,  9432,\n",
       "          9376,  9344,  9376,  9304,  9192,  9104],\n",
       "        [ 9480,  9376,  9352,  9312,  9168,  9192,  9176,  9192,  9312,\n",
       "          9344,  9040,  9240,  9344,  9320,  9208],\n",
       "        [ 9472,  9280,  9248,  9208,  9152,  9144,  9040,  8976,  9104,\n",
       "          9104,  9064,  9104,  9184,  9224,  9304],\n",
       "        [ 9376,  9416,  9368,  9304,  9480,  9440,  9408,  9304,  9176,\n",
       "          9144,  9376,  9216,  9128,  9176,  9136],\n",
       "        [ 9416,  9504,  9528,  9472,  9664,  9688,  9608,  9552,  9624,\n",
       "          9560,  9456,  9400,  9432,  9456,  9416],\n",
       "        [ 9424,  9544,  9552,  9664,  9328,  9488,  9560,  9528,  9488,\n",
       "          9560,  9352,  9304,  9416,  9328,  9528]],\n",
       "\n",
       "       [[ 9784,  9720,  9784,  9760,  9768,  9744,  9792,  9888,  9832,\n",
       "          9856,  9832,  9896,  9928,  9832,  9832],\n",
       "        [ 9744,  9832,  9832,  9784,  9768,  9752,  9744,  9760,  9784,\n",
       "          9824,  9720,  9744,  9704,  9704,  9808],\n",
       "        [ 9872,  9904,  9824,  9760,  9664,  9656,  9664,  9640,  9704,\n",
       "          9720,  9640,  9640,  9656,  9672,  9776],\n",
       "        [ 9840,  9904,  9824,  9872,  9824,  9768,  9728,  9656,  9640,\n",
       "          9664,  9608,  9608,  9672,  9632,  9568],\n",
       "        [ 9752,  9824,  9928,  9904,  9880,  9880,  9824,  9720,  9552,\n",
       "          9592,  9680,  9720,  9632,  9608,  9608],\n",
       "        [ 9696,  9784,  9960,  9824,  9920,  9896,  9832,  9848,  9824,\n",
       "          9760,  9728,  9552,  9552,  9552,  9584],\n",
       "        [ 9848,  9952,  9872,  9856,  9928,  9952,  9952,  9944,  9912,\n",
       "          9848, 10016,  9928,  9808,  9744,  9664],\n",
       "        [ 9968,  9944,  9944,  9856,  9896,  9856,  9856,  9840,  9856,\n",
       "          9920,  9920,  9968,  9968, 10016,  9808],\n",
       "        [ 9896,  9872,  9840,  9928,  9832,  9816,  9816,  9752,  9728,\n",
       "          9768,  9752,  9848,  9992, 10128, 10080],\n",
       "        [ 9992,  9944,  9888,  9840,  9832,  9920,  9840,  9784,  9784,\n",
       "          9768,  9832,  9744,  9784,  9720,  9864],\n",
       "        [ 9944,  9840,  9832,  9832,  9856,  9896,  9960,  9880,  9928,\n",
       "          9912,  9856,  9864,  9872,  9856,  9736],\n",
       "        [ 9824,  9896,  9880,  9840,  9888,  9928,  9872,  9888,  9840,\n",
       "          9856,  9776,  9896, 10032,  9960,  9752],\n",
       "        [ 9856,  9856,  9928,  9856,  9928,  9872,  9808,  9808,  9744,\n",
       "          9752,  9784,  9768,  9856,  9960,  9960],\n",
       "        [ 9832,  9896,  9928,  9960,  9944,  9880,  9872,  9864,  9840,\n",
       "          9816,  9768,  9736,  9720,  9768,  9880],\n",
       "        [ 9888,  9888,  9768,  9832,  9872,  9912,  9864,  9880,  9928,\n",
       "          9784,  9912,  9928,  9864,  9664,  9584],\n",
       "        [ 9944,  9928,  9856,  9784,  9736,  9776,  9776,  9768,  9784,\n",
       "          9856,  9640,  9616,  9776,  9712,  9712],\n",
       "        [ 9888,  9832,  9784,  9752,  9736,  9664,  9520,  9504,  9528,\n",
       "          9632,  9720,  9616,  9608,  9704,  9792],\n",
       "        [ 9832,  9856,  9784,  9776,  9816,  9872,  9768,  9768,  9736,\n",
       "          9648,  9864,  9776,  9728,  9568,  9576],\n",
       "        [ 9840,  9976,  9872,  9880, 10032, 10176, 10032,  9936,  9944,\n",
       "          9928, 10056,  9840,  9936,  9912,  9808],\n",
       "        [ 9936, 10080,  9968, 10120,  9848, 10000, 10016, 10016, 10032,\n",
       "         10000,  9904,  9800,  9936,  9944,  9928]],\n",
       "\n",
       "       [[ 9928,  9960, 10000,  9944, 10000,  9904,  9944, 10016, 10056,\n",
       "         10056, 10008, 10048, 10056, 10128, 10128],\n",
       "        [ 9944,  9936,  9960,  9944,  9928,  9880,  9968,  9944,  9968,\n",
       "         10096,  9944,  9880,  9872,  9928, 10000],\n",
       "        [ 9944,  9952,  9896,  9904,  9840,  9896,  9896,  9752,  9840,\n",
       "          9904,  9840,  9808,  9832,  9808,  9808],\n",
       "        [ 9896,  9952,  9928,  9944,  9896,  9928,  9872,  9824,  9856,\n",
       "          9856,  9784,  9840,  9808,  9720,  9720],\n",
       "        [ 9872,  9856,  9976,  9992,  9952, 10056,  9928,  9840,  9696,\n",
       "          9784,  9872,  9872,  9768,  9840,  9720],\n",
       "        [ 9944,  9944, 10040,  9944, 10080, 10040,  9928, 10008,  9944,\n",
       "          9848,  9840,  9784,  9712,  9800,  9840],\n",
       "        [ 9952, 10032, 10000,  9944, 10056,  9952, 10032, 10048, 10056,\n",
       "          9952,  9992, 10000,  9968,  9824,  9792],\n",
       "        [10080, 10104, 10000,  9944, 10056, 10032, 10056,  9976,  9960,\n",
       "         10032, 10040, 10088, 10088, 10056,  9952],\n",
       "        [10080, 10040,  9952, 10056,  9976,  9904,  9944,  9896,  9896,\n",
       "         10016, 10008, 10048, 10096, 10208, 10192],\n",
       "        [10120, 10096, 10016,  9968,  9928,  9944,  9976,  9976, 10008,\n",
       "          9992,  9968,  9936,  9968, 10016,  9984],\n",
       "        [10016, 10008,  9952,  9952, 10000, 10056, 10032,  9976, 10128,\n",
       "         10008, 10056,  9992, 10016,  9992,  9928],\n",
       "        [10040, 10160, 10056,  9992, 10128, 10056, 10136, 10080, 10016,\n",
       "          9992,  9904, 10040, 10160, 10008,  9920],\n",
       "        [ 9992, 10000, 10032, 10016, 10168, 10056,  9936,  9936,  9952,\n",
       "          9880,  9928,  9976, 10144, 10072, 10096],\n",
       "        [ 9960, 10056, 10192, 10128, 10056, 10000,  9944, 10016, 10056,\n",
       "         10008,  9928,  9904,  9928,  9904, 10048],\n",
       "        [ 9992, 10016, 10016, 10008, 10032, 10000, 10008, 10080, 10080,\n",
       "         10048, 10104, 10072,  9992,  9928,  9984],\n",
       "        [10080, 10128, 10056,  9960,  9944,  9944,  9840,  9856,  9904,\n",
       "         10048,  9816,  9896,  9872,  9952,  9904],\n",
       "        [10016,  9952,  9880,  9832,  9784,  9784,  9712,  9696,  9688,\n",
       "          9752,  9752,  9816,  9816,  9816,  9928],\n",
       "        [ 9976,  9984,  9984,  9896, 10008,  9952,  9928,  9984,  9840,\n",
       "          9752, 10008,  9952,  9840,  9896,  9720],\n",
       "        [10008,  9992, 10048,  9928, 10208, 10184, 10088, 10088, 10040,\n",
       "         10016, 10088, 10072,  9968, 10072,  9920],\n",
       "        [10056, 10056, 10144, 10160, 10016, 10128, 10088, 10128, 10128,\n",
       "         10208,  9944,  9944, 10040, 10040, 10136]]], dtype=uint16)"
      ]
     },
     "execution_count": 43,
     "metadata": {},
     "output_type": "execute_result"
    }
   ],
   "source": [
    "arrays[1]"
   ]
  },
  {
   "cell_type": "code",
   "execution_count": 59,
   "metadata": {},
   "outputs": [
    {
     "data": {
      "text/plain": [
       "(3, 15, 15)"
      ]
     },
     "execution_count": 59,
     "metadata": {},
     "output_type": "execute_result"
    }
   ],
   "source": [
    "arrays[0].shape\n",
    "# plt.imshow(arrays[0][1,:,:])"
   ]
  },
  {
   "cell_type": "code",
   "execution_count": 21,
   "metadata": {},
   "outputs": [
    {
     "data": {
      "text/plain": [
       "1000"
      ]
     },
     "execution_count": 21,
     "metadata": {},
     "output_type": "execute_result"
    }
   ],
   "source": [
    "import os\n",
    "imPath = '/Users/maaikeizeboud/Documents/Data/tiles_test/'\n",
    "imgs = sorted([file for file in os.listdir(imPath) if file.endswith('.tif') ]) # list with image names\n",
    "len(imgs)"
   ]
  },
  {
   "cell_type": "markdown",
   "metadata": {},
   "source": [
    "#### Create same windowlist from masked image"
   ]
  },
  {
   "cell_type": "code",
   "execution_count": 46,
   "metadata": {},
   "outputs": [
    {
     "name": "stdout",
     "output_type": "stream",
     "text": [
      "10004 10002\n",
      "(10002, 10004)\n",
      "<class 'rasterio.io.DatasetReader'>\n",
      "(3, 10002, 10004) (4, 10002, 10004)\n",
      "check reading dimensions for eventual tile (is it square?):\n"
     ]
    }
   ],
   "source": [
    "\n",
    "source_data = dataPath+imName\n",
    "with rasterio.open(source_data) as src:\n",
    "    print(src.meta['width'],src.meta['height'])\n",
    "    print(src.shape)\n",
    "    print(type(src))\n",
    "    \n",
    "print(bands.shape, masked_image.shape)\n",
    "print('check reading dimensions for eventual tile (is it square?):')\n",
    "\n",
    "# source_data = '/Users/maaikeizeboud/Documents/Data/test/data_update_S2_composite_2019-11-1_2020-3-1_tile_0.tif'\n",
    "# with rasterio.open(source_data) as src:\n",
    "#     print(src.meta['width'],src.meta['height'])\n"
   ]
  },
  {
   "cell_type": "code",
   "execution_count": 28,
   "metadata": {},
   "outputs": [],
   "source": [
    "\n",
    "def get_windows2(src, overlap, width, height, boundless=True):\n",
    "    input_width = src.shape[2] # src has shape (bnds, X , Y)\n",
    "    input_height = src.shape[1] # Which, when reading 'src.meta[width]' is (bands, height,width)\n",
    "    \n",
    "#     offsets = product(range(0, src.meta['width'], width), range(0, src.meta['height'], height))\n",
    "    offsets = product(range(0, input_width, width), range(0, input_height, height))\n",
    "    full_window = windows.Window(col_off=0, row_off=0, width=input_width, height=input_height)\n",
    "    for col_off, row_off in offsets:\n",
    "        window = windows.Window(\n",
    "            col_off=col_off - overlap,\n",
    "            row_off=row_off - overlap,\n",
    "            width=width,\n",
    "            height=height)\n",
    "        \n",
    "        if boundless:\n",
    "            yield window\n",
    "        else:\n",
    "            yield window.intersection(full_window)"
   ]
  },
  {
   "cell_type": "markdown",
   "metadata": {},
   "source": [
    "#### Use window_list reading to cut windows from masked_image \n",
    "-- gives error: as this uses rasterio.read(), and the masked_image is a xarray"
   ]
  },
  {
   "cell_type": "code",
   "execution_count": 55,
   "metadata": {},
   "outputs": [],
   "source": [
    "# using window_list reading -- only for rasterio dataReader object\n",
    "\n",
    "# src = masked_image\n",
    "# window_list = [w for w in get_windows2(src, overlap, width, height)]\n",
    "# len(window_list)\n",
    "# arrays = [src.read([1, 2, 3], window=window, boundless=False) for window in window_list]\n",
    "\n",
    "# using rolling window for xarray\n"
   ]
  },
  {
   "cell_type": "markdown",
   "metadata": {},
   "source": [
    "#### Use xarray window rolling"
   ]
  },
  {
   "cell_type": "code",
   "execution_count": 68,
   "metadata": {},
   "outputs": [
    {
     "data": {
      "text/plain": [
       "DataArrayRolling [x->20,y->20]"
      ]
     },
     "execution_count": 68,
     "metadata": {},
     "output_type": "execute_result"
    }
   ],
   "source": [
    "# initialize rolling object \n",
    "rolling = bands.rolling(\n",
    "    x=20,\n",
    "    y=20,\n",
    ")\n",
    "rolling"
   ]
  },
  {
   "cell_type": "code",
   "execution_count": 65,
   "metadata": {},
   "outputs": [],
   "source": [
    "\n",
    "cutouts = rolling.construct(\n",
    "    {'x':'x_win', 'y': 'y_win'}, \n",
    "    stride={'x': 15, 'y': 15}, # windwo_listing uses 'overlap' of 5, which is a stride of 15 for a window of 20pixels\n",
    ")"
   ]
  },
  {
   "cell_type": "code",
   "execution_count": 66,
   "metadata": {},
   "outputs": [
    {
     "data": {
      "text/plain": [
       "(3, 667, 667, 15, 15)"
      ]
     },
     "execution_count": 66,
     "metadata": {},
     "output_type": "execute_result"
    }
   ],
   "source": [
    "\n",
    "cutouts.shape "
   ]
  },
  {
   "cell_type": "code",
   "execution_count": 60,
   "metadata": {},
   "outputs": [
    {
     "data": {
      "text/plain": [
       "(667, 667, 20, 20)"
      ]
     },
     "execution_count": 60,
     "metadata": {},
     "output_type": "execute_result"
    }
   ],
   "source": [
    "cutouts[0].shape"
   ]
  },
  {
   "cell_type": "code",
   "execution_count": 67,
   "metadata": {},
   "outputs": [
    {
     "data": {
      "text/plain": [
       "1334"
      ]
     },
     "execution_count": 67,
     "metadata": {},
     "output_type": "execute_result"
    }
   ],
   "source": [
    "len(cutouts[0])+len(cutouts[0])"
   ]
  },
  {
   "cell_type": "markdown",
   "metadata": {},
   "source": [
    "#### Exporting windows"
   ]
  },
  {
   "cell_type": "code",
   "execution_count": 70,
   "metadata": {},
   "outputs": [
    {
     "data": {
      "text/plain": [
       "{'driver': 'GTiff', 'dtype': 'uint16', 'nodata': None, 'width': 10004, 'height': 10002, 'count': 3, 'crs': CRS.from_wkt('LOCAL_CS[\"WGS 84 / Antarctic Polar Stereographic\",UNIT[\"metre\",1,AUTHORITY[\"EPSG\",\"9001\"]],AXIS[\"Easting\",EAST],AXIS[\"Northing\",NORTH],AUTHORITY[\"EPSG\",\"3031\"]]'), 'transform': Affine(10.0, 0.0, -1653920.0,\n",
       "       0.0, -10.0, -266650.0), 'blockxsize': 256, 'blockysize': 256, 'tiled': True}"
      ]
     },
     "execution_count": 70,
     "metadata": {},
     "output_type": "execute_result"
    }
   ],
   "source": []
  },
  {
   "cell_type": "code",
   "execution_count": null,
   "metadata": {},
   "outputs": [],
   "source": [
    "\n",
    "# with rasterio.open(source_data) as src:\n",
    "#     def write_array(array, window, outpath):\n",
    "#         profile = src.profile\n",
    "#         profile.update(\n",
    "#             transform=src.window_transform(window),\n",
    "#             height=window.height,\n",
    "#             width=window.width)\n",
    "#         with rasterio.open(outpath, 'w', **profile) as dst:\n",
    "#             dst.write(array)\n",
    "    \n",
    "#     with concurrent.futures.ThreadPoolExecutor(\n",
    "#             max_workers=8\n",
    "#         ) as executor:\n",
    "#             futures = executor.map(write_array, arrays, window_list, outpath_list)"
   ]
  }
 ],
 "metadata": {
  "kernelspec": {
   "display_name": "Python 3",
   "language": "python",
   "name": "python3"
  },
  "language_info": {
   "codemirror_mode": {
    "name": "ipython",
    "version": 3
   },
   "file_extension": ".py",
   "mimetype": "text/x-python",
   "name": "python",
   "nbconvert_exporter": "python",
   "pygments_lexer": "ipython3",
   "version": "3.8.5"
  }
 },
 "nbformat": 4,
 "nbformat_minor": 4
}
